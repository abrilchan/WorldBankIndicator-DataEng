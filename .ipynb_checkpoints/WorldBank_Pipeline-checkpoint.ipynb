{
 "cells": [
  {
   "cell_type": "code",
   "execution_count": 63,
   "id": "1b8a0e90",
   "metadata": {},
   "outputs": [],
   "source": [
    "import requests\n",
    "import json\n",
    "import pandas as pd"
   ]
  },
  {
   "cell_type": "code",
   "execution_count": 52,
   "id": "826fd7d4",
   "metadata": {},
   "outputs": [],
   "source": [
    "url_grl =\"http://api.worldbank.org/v2/country/all/indicator/SP.POP.TOTL?format=json&page=\""
   ]
  },
  {
   "cell_type": "code",
   "execution_count": 53,
   "id": "736b1083",
   "metadata": {},
   "outputs": [],
   "source": [
    "pages = range(1,331)"
   ]
  },
  {
   "cell_type": "code",
   "execution_count": 58,
   "id": "65f3c94b",
   "metadata": {},
   "outputs": [],
   "source": [
    "urls = []"
   ]
  },
  {
   "cell_type": "code",
   "execution_count": 59,
   "id": "c37da82f",
   "metadata": {},
   "outputs": [],
   "source": [
    "for page in pages:\n",
    "    urls.append(url_grl+str(page))"
   ]
  },
  {
   "cell_type": "code",
   "execution_count": 73,
   "id": "02969e0a",
   "metadata": {},
   "outputs": [],
   "source": [
    "all_data = []"
   ]
  },
  {
   "cell_type": "code",
   "execution_count": 74,
   "id": "cc6e9d91",
   "metadata": {},
   "outputs": [],
   "source": [
    "for url in urls:\n",
    "    all_data.append(requests.get(url).json())"
   ]
  },
  {
   "cell_type": "code",
   "execution_count": 87,
   "id": "51f70b92",
   "metadata": {},
   "outputs": [],
   "source": [
    "my_data = []"
   ]
  },
  {
   "cell_type": "code",
   "execution_count": 85,
   "id": "94bb65c5",
   "metadata": {},
   "outputs": [],
   "source": [
    "for d in data:\n",
    "    "
   ]
  },
  {
   "cell_type": "code",
   "execution_count": 81,
   "id": "2aca54ee",
   "metadata": {},
   "outputs": [
    {
     "data": {
      "text/plain": [
       "50"
      ]
     },
     "execution_count": 81,
     "metadata": {},
     "output_type": "execute_result"
    }
   ],
   "source": [
    "len(data[1][1])"
   ]
  },
  {
   "cell_type": "code",
   "execution_count": null,
   "id": "df054e32",
   "metadata": {},
   "outputs": [],
   "source": []
  }
 ],
 "metadata": {
  "kernelspec": {
   "display_name": "Python 3 (ipykernel)",
   "language": "python",
   "name": "python3"
  },
  "language_info": {
   "codemirror_mode": {
    "name": "ipython",
    "version": 3
   },
   "file_extension": ".py",
   "mimetype": "text/x-python",
   "name": "python",
   "nbconvert_exporter": "python",
   "pygments_lexer": "ipython3",
   "version": "3.9.12"
  }
 },
 "nbformat": 4,
 "nbformat_minor": 5
}
