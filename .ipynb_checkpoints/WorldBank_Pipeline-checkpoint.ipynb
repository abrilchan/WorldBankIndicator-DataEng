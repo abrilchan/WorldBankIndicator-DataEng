{
 "cells": [
  {
   "cell_type": "markdown",
   "id": "cd3b0f66",
   "metadata": {},
   "source": [
    "# Import libraries"
   ]
  },
  {
   "cell_type": "code",
   "execution_count": 1,
   "id": "1b8a0e90",
   "metadata": {},
   "outputs": [],
   "source": [
    "import requests\n",
    "import json\n",
    "import pandas as pd"
   ]
  },
  {
   "cell_type": "markdown",
   "id": "ec76dc92",
   "metadata": {},
   "source": [
    "### URL Indicator Info JSON and pages \n",
    "(There are 330 pages in total)"
   ]
  },
  {
   "cell_type": "code",
   "execution_count": 2,
   "id": "f0f985f8",
   "metadata": {},
   "outputs": [],
   "source": [
    "url_grl =\"http://api.worldbank.org/v2/country/all/indicator/SP.POP.TOTL?format=json&page=\""
   ]
  },
  {
   "cell_type": "markdown",
   "id": "7f9cca10",
   "metadata": {},
   "source": [
    "### Accessing all pages\n",
    "\n",
    "*pages* is a range from 1 to 330\n",
    "<br>\n",
    "*urls* is a list, it contains *url_grl* + *page* in *pages*\n",
    "<br>\n",
    "*all_pages_data* is a list, it contains a list with info from JSON API"
   ]
  },
  {
   "cell_type": "code",
   "execution_count": 3,
   "id": "1d7f8e63",
   "metadata": {},
   "outputs": [],
   "source": [
    "pages = range(1,331)\n",
    "urls = []\n",
    "all_pages_data = []"
   ]
  },
  {
   "cell_type": "code",
   "execution_count": 4,
   "id": "c514a87b",
   "metadata": {},
   "outputs": [],
   "source": [
    "for page in pages:\n",
    "    urls.append(url_grl+str(page))"
   ]
  },
  {
   "cell_type": "code",
   "execution_count": 5,
   "id": "658a7428",
   "metadata": {},
   "outputs": [],
   "source": [
    "for url in urls:\n",
    "    all_pages_data.append(requests.get(url).json())"
   ]
  },
  {
   "cell_type": "markdown",
   "id": "41d33767",
   "metadata": {},
   "source": [
    "Cada dict con info contiene: \n",
    "<br>\n",
    "\n",
    "<p style=\"text-align: center;\">\n",
    "    indicador -> [dict con id y value] indicator id Total population\n",
    "    <br>\n",
    "    country -> [dict con id y value] Country id, country name\n",
    "    <br>\n",
    "    countryiso3code -> [str] code\n",
    "    <br>\n",
    "    date -> [str] year\n",
    "    <br>\n",
    "    value -> [int] total population\n",
    "    <br>\n",
    "</p>"
   ]
  },
  {
   "cell_type": "code",
   "execution_count": 154,
   "id": "10af20c9",
   "metadata": {},
   "outputs": [],
   "source": [
    "list_countries = []"
   ]
  },
  {
   "cell_type": "code",
   "execution_count": null,
   "id": "2fa86065",
   "metadata": {},
   "outputs": [],
   "source": [
    "[new_list.append(item) for item in students if item not in new_list]"
   ]
  },
  {
   "cell_type": "code",
   "execution_count": 155,
   "id": "00930459",
   "metadata": {},
   "outputs": [],
   "source": [
    "for i in range(0,329):\n",
    "    for j in range (0,50):\n",
    "        if all_pages_data[i][1][j]['country']['value'] not in list_countries:\n",
    "            list_countries.append(all_pages_data[i][1][j]['country']['value'])"
   ]
  },
  {
   "cell_type": "code",
   "execution_count": 156,
   "id": "671b785c",
   "metadata": {},
   "outputs": [],
   "source": [
    "series_countries = pd.Series(list_countries)"
   ]
  },
  {
   "cell_type": "code",
   "execution_count": 157,
   "id": "adc07010",
   "metadata": {},
   "outputs": [
    {
     "data": {
      "text/plain": [
       "0         Africa Eastern and Southern\n",
       "1          Africa Western and Central\n",
       "2                          Arab World\n",
       "3              Caribbean small states\n",
       "4      Central Europe and the Baltics\n",
       "                    ...              \n",
       "261             Virgin Islands (U.S.)\n",
       "262                West Bank and Gaza\n",
       "263                       Yemen, Rep.\n",
       "264                            Zambia\n",
       "265                          Zimbabwe\n",
       "Length: 266, dtype: object"
      ]
     },
     "execution_count": 157,
     "metadata": {},
     "output_type": "execute_result"
    }
   ],
   "source": [
    "series_countries"
   ]
  },
  {
   "cell_type": "code",
   "execution_count": 159,
   "id": "6c86ef53",
   "metadata": {},
   "outputs": [],
   "source": [
    "list_years = []"
   ]
  },
  {
   "cell_type": "code",
   "execution_count": 161,
   "id": "78001ea2",
   "metadata": {},
   "outputs": [],
   "source": [
    "for i in range(0,329):\n",
    "    for j in range (0,50):\n",
    "        if all_pages_data[i][1][j]['date'] not in list_years:\n",
    "            list_years.append(all_pages_data[i][1][j]['date'])"
   ]
  },
  {
   "cell_type": "code",
   "execution_count": 209,
   "id": "af3e8cf0",
   "metadata": {},
   "outputs": [],
   "source": [
    "series_year = pd.Series(list_years)"
   ]
  },
  {
   "cell_type": "code",
   "execution_count": 217,
   "id": "417f21b4",
   "metadata": {},
   "outputs": [
    {
     "data": {
      "text/plain": [
       "'2020'"
      ]
     },
     "execution_count": 217,
     "metadata": {},
     "output_type": "execute_result"
    }
   ],
   "source": [
    "series_year[1]"
   ]
  },
  {
   "cell_type": "code",
   "execution_count": 322,
   "id": "817904f6",
   "metadata": {},
   "outputs": [],
   "source": [
    "list_dicts_per_year = []\n",
    "for year in series_year:\n",
    "    list_dicts_per_year.append({})"
   ]
  },
  {
   "cell_type": "code",
   "execution_count": 323,
   "id": "4e77ddf9",
   "metadata": {},
   "outputs": [],
   "source": [
    "for i_year in range(len(series_year)):\n",
    "    for i_pages in range(329):\n",
    "        for i_page in range(50):\n",
    "            if all_pages_data[i_pages][1][i_page]['date']==year:\n",
    "                list_dicts_per_year[i_year].update({\n",
    "                    all_pages_data[i_pages][1][i_page]['country']['value'] : all_pages_data[i_pages][1][i_page]['value']\n",
    "                })"
   ]
  },
  {
   "cell_type": "code",
   "execution_count": 331,
   "id": "576e7445",
   "metadata": {},
   "outputs": [
    {
     "data": {
      "text/html": [
       "<div>\n",
       "<style scoped>\n",
       "    .dataframe tbody tr th:only-of-type {\n",
       "        vertical-align: middle;\n",
       "    }\n",
       "\n",
       "    .dataframe tbody tr th {\n",
       "        vertical-align: top;\n",
       "    }\n",
       "\n",
       "    .dataframe thead th {\n",
       "        text-align: right;\n",
       "    }\n",
       "</style>\n",
       "<table border=\"1\" class=\"dataframe\">\n",
       "  <thead>\n",
       "    <tr style=\"text-align: right;\">\n",
       "      <th></th>\n",
       "      <th>0</th>\n",
       "    </tr>\n",
       "  </thead>\n",
       "  <tbody>\n",
       "    <tr>\n",
       "      <th>Africa Eastern and Southern</th>\n",
       "      <td>130692579.0</td>\n",
       "    </tr>\n",
       "    <tr>\n",
       "      <th>Africa Western and Central</th>\n",
       "      <td>97256290.0</td>\n",
       "    </tr>\n",
       "    <tr>\n",
       "      <th>Arab World</th>\n",
       "      <td>93359407.0</td>\n",
       "    </tr>\n",
       "    <tr>\n",
       "      <th>Caribbean small states</th>\n",
       "      <td>4209141.0</td>\n",
       "    </tr>\n",
       "    <tr>\n",
       "      <th>Central Europe and the Baltics</th>\n",
       "      <td>91401764.0</td>\n",
       "    </tr>\n",
       "    <tr>\n",
       "      <th>...</th>\n",
       "      <td>...</td>\n",
       "    </tr>\n",
       "    <tr>\n",
       "      <th>Vietnam</th>\n",
       "      <td>32718461.0</td>\n",
       "    </tr>\n",
       "    <tr>\n",
       "      <th>Virgin Islands (U.S.)</th>\n",
       "      <td>32500.0</td>\n",
       "    </tr>\n",
       "    <tr>\n",
       "      <th>West Bank and Gaza</th>\n",
       "      <td>NaN</td>\n",
       "    </tr>\n",
       "    <tr>\n",
       "      <th>Yemen, Rep.</th>\n",
       "      <td>5542459.0</td>\n",
       "    </tr>\n",
       "    <tr>\n",
       "      <th>Zambia</th>\n",
       "      <td>3119430.0</td>\n",
       "    </tr>\n",
       "  </tbody>\n",
       "</table>\n",
       "<p>265 rows × 1 columns</p>\n",
       "</div>"
      ],
      "text/plain": [
       "                                          0\n",
       "Africa Eastern and Southern     130692579.0\n",
       "Africa Western and Central       97256290.0\n",
       "Arab World                       93359407.0\n",
       "Caribbean small states            4209141.0\n",
       "Central Europe and the Baltics   91401764.0\n",
       "...                                     ...\n",
       "Vietnam                          32718461.0\n",
       "Virgin Islands (U.S.)               32500.0\n",
       "West Bank and Gaza                      NaN\n",
       "Yemen, Rep.                       5542459.0\n",
       "Zambia                            3119430.0\n",
       "\n",
       "[265 rows x 1 columns]"
      ]
     },
     "execution_count": 331,
     "metadata": {},
     "output_type": "execute_result"
    }
   ],
   "source": [
    "pd.DataFrame(pd.Series(list_dicts_per_year[0]))"
   ]
  },
  {
   "cell_type": "code",
   "execution_count": 194,
   "id": "86be9c34",
   "metadata": {},
   "outputs": [],
   "source": [
    "year1997 = {'africa':10,\n",
    "            'mexico': 30,\n",
    "            'zimbawe': 50\n",
    "           }"
   ]
  },
  {
   "cell_type": "code",
   "execution_count": 221,
   "id": "e9c84913",
   "metadata": {},
   "outputs": [
    {
     "data": {
      "text/plain": [
       "africa     10\n",
       "mexico     30\n",
       "zimbawe    50\n",
       "dtype: int64"
      ]
     },
     "execution_count": 221,
     "metadata": {},
     "output_type": "execute_result"
    }
   ],
   "source": [
    "pd.Series(year1997)"
   ]
  },
  {
   "cell_type": "code",
   "execution_count": 195,
   "id": "ab325d6d",
   "metadata": {},
   "outputs": [
    {
     "data": {
      "text/plain": [
       "africa     10\n",
       "mexico     30\n",
       "zimbawe    50\n",
       "dtype: int64"
      ]
     },
     "execution_count": 195,
     "metadata": {},
     "output_type": "execute_result"
    }
   ],
   "source": [
    "pd.Series(year1997)"
   ]
  },
  {
   "cell_type": "code",
   "execution_count": 196,
   "id": "529e09c6",
   "metadata": {},
   "outputs": [],
   "source": [
    "year2021 = {'africa':100,\n",
    "            'mexico': 300,\n",
    "            'zimbawe': 500\n",
    "           }"
   ]
  },
  {
   "cell_type": "code",
   "execution_count": 197,
   "id": "6169a890",
   "metadata": {},
   "outputs": [
    {
     "data": {
      "text/plain": [
       "africa     100\n",
       "mexico     300\n",
       "zimbawe    500\n",
       "dtype: int64"
      ]
     },
     "execution_count": 197,
     "metadata": {},
     "output_type": "execute_result"
    }
   ],
   "source": [
    "pd.Series(year2021)"
   ]
  },
  {
   "cell_type": "code",
   "execution_count": 205,
   "id": "b0e24ae7",
   "metadata": {},
   "outputs": [
    {
     "data": {
      "text/html": [
       "<div>\n",
       "<style scoped>\n",
       "    .dataframe tbody tr th:only-of-type {\n",
       "        vertical-align: middle;\n",
       "    }\n",
       "\n",
       "    .dataframe tbody tr th {\n",
       "        vertical-align: top;\n",
       "    }\n",
       "\n",
       "    .dataframe thead th {\n",
       "        text-align: right;\n",
       "    }\n",
       "</style>\n",
       "<table border=\"1\" class=\"dataframe\">\n",
       "  <thead>\n",
       "    <tr style=\"text-align: right;\">\n",
       "      <th></th>\n",
       "      <th>1997</th>\n",
       "      <th>2021</th>\n",
       "    </tr>\n",
       "  </thead>\n",
       "  <tbody>\n",
       "    <tr>\n",
       "      <th>africa</th>\n",
       "      <td>10</td>\n",
       "      <td>100</td>\n",
       "    </tr>\n",
       "    <tr>\n",
       "      <th>mexico</th>\n",
       "      <td>30</td>\n",
       "      <td>300</td>\n",
       "    </tr>\n",
       "    <tr>\n",
       "      <th>zimbawe</th>\n",
       "      <td>50</td>\n",
       "      <td>500</td>\n",
       "    </tr>\n",
       "  </tbody>\n",
       "</table>\n",
       "</div>"
      ],
      "text/plain": [
       "         1997  2021\n",
       "africa     10   100\n",
       "mexico     30   300\n",
       "zimbawe    50   500"
      ]
     },
     "execution_count": 205,
     "metadata": {},
     "output_type": "execute_result"
    }
   ],
   "source": [
    "pd.DataFrame({'1997': pd.Series(year1997), '2021':pd.Series(year2021)})"
   ]
  },
  {
   "cell_type": "markdown",
   "id": "7738240b",
   "metadata": {},
   "source": [
    "Para cada una de las paginas data_per_page (estas son listas, que contienen 1 diccionario con la info de cada pag y 1 lista con de los indicadores)\n",
    "<br>\n",
    "Hay que acceder a data_per_page \\[ 1: \\], esa es la info que estará en "
   ]
  }
 ],
 "metadata": {
  "kernelspec": {
   "display_name": "Python 3 (ipykernel)",
   "language": "python",
   "name": "python3"
  },
  "language_info": {
   "codemirror_mode": {
    "name": "ipython",
    "version": 3
   },
   "file_extension": ".py",
   "mimetype": "text/x-python",
   "name": "python",
   "nbconvert_exporter": "python",
   "pygments_lexer": "ipython3",
   "version": "3.9.12"
  }
 },
 "nbformat": 4,
 "nbformat_minor": 5
}
