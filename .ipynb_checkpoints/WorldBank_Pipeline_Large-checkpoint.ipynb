{
 "cells": [
  {
   "cell_type": "markdown",
   "id": "ca5d2f5a",
   "metadata": {},
   "source": [
    "# Large Coding Test - Data Engineer"
   ]
  },
  {
   "cell_type": "markdown",
   "id": "c48b2dbf",
   "metadata": {},
   "source": [
    "### INSTRUCCIONES\n",
    "\n",
    "Crear un pipeline con Python, el cual debe:\n",
    "1. Extraer los datos correspondientes al total de población de cada país a través de los años usando la [API JSON](http://api.worldbank.org/v2/country/all/indicator/SP.POP.TOTL?format=json) de [Indicadores del Banco Mundial](https://datahelpdesk.worldbank.org/knowledgebase/articles/889392-about-the-indicators-api-documentation).\n",
    "<br>\n",
    "Nota: Puedes usar el parámetro page=n para obtener la página número n."
   ]
  },
  {
   "cell_type": "markdown",
   "id": "01fa214d",
   "metadata": {},
   "source": [
    "Para realizar la petición a la API, se va a hacer uso de la librería **requests**. Mientras que para almacenar los datos se hará uso de la librería **pandas**."
   ]
  },
  {
   "cell_type": "code",
   "execution_count": 1,
   "id": "91d5fb80",
   "metadata": {},
   "outputs": [],
   "source": [
    "import requests\n",
    "import pandas as pd"
   ]
  },
  {
   "cell_type": "markdown",
   "id": "843943a6",
   "metadata": {},
   "source": [
    "La información de la **API** contiene un **JSON** que se visualiza de la siguiente forma:"
   ]
  },
  {
   "cell_type": "markdown",
   "id": "a3fd3dda",
   "metadata": {},
   "source": [
    "![Formato de la API](images/API_formart.png)"
   ]
  },
  {
   "cell_type": "markdown",
   "id": "dbc84b16",
   "metadata": {},
   "source": [
    "Se incluye una lista que contiene un diccionario y una lista. El diccionario tiene información útil para este ptroyecto, como son la página, el total de páginas y el total de datos. Es importante conocer el número total de páginas que tiene la API, para saber cuantas veces se debe acceder por los datos. La lista contiene a su vez diccionarios, estos contienen los datos que van a ser extraídos y almacenados. Es importante conocer cuántos indicadores hay por página, ya que estos servirán para iterar y almacenar cada información. La información que se estará almacenando será: el valor del país, el código ISO, el año y el valor (la población total)."
   ]
  },
  {
   "cell_type": "markdown",
   "id": "b6674cf0",
   "metadata": {},
   "source": [
    "### Accediendo a todas las páginas de la API\n",
    "\n",
    "Primero se declara una variable tipo string que contiene la dirección principal, hasta antes de enumerar la página."
   ]
  },
  {
   "cell_type": "code",
   "execution_count": 2,
   "id": "9da952c7",
   "metadata": {},
   "outputs": [],
   "source": [
    "url_grl =\"http://api.worldbank.org/v2/country/all/indicator/SP.POP.TOTL?format=json&page=\""
   ]
  },
  {
   "cell_type": "markdown",
   "id": "4060c6ae",
   "metadata": {},
   "source": [
    "Para conocer cuántas páginas hay en total, se realiza una primera petición, se accede al **JSON** y, conociendo la estructura de este se accede al valor de las páginas totales. Posteriormente se declara un rango de 1 hasta el número total de páginas."
   ]
  },
  {
   "cell_type": "code",
   "execution_count": 3,
   "id": "b0b9304d",
   "metadata": {},
   "outputs": [],
   "source": [
    "pages = range(1, requests.get(url_grl+'1').json()[0]['pages']+1)"
   ]
  },
  {
   "cell_type": "markdown",
   "id": "19771ba7",
   "metadata": {},
   "source": [
    "Se declarán listas vacías para almacenar todas las urls, es decir, una url por cada página. Y una para almacenar todos los datos."
   ]
  },
  {
   "cell_type": "code",
   "execution_count": 4,
   "id": "029a35cd",
   "metadata": {},
   "outputs": [],
   "source": [
    "urls = []\n",
    "all_pages_data = []"
   ]
  },
  {
   "cell_type": "code",
   "execution_count": 5,
   "id": "ec25b37d",
   "metadata": {},
   "outputs": [],
   "source": [
    "for page in pages:\n",
    "    urls.append(url_grl+str(page))"
   ]
  },
  {
   "cell_type": "code",
   "execution_count": 6,
   "id": "940ea858",
   "metadata": {},
   "outputs": [],
   "source": [
    "for url in urls:\n",
    "    all_pages_data.append(requests.get(url).json())"
   ]
  },
  {
   "cell_type": "markdown",
   "id": "65708a3b",
   "metadata": {},
   "source": [
    "Para acceder a todos los indicadores por página, se sigue el mismo procedimiento que con las urls."
   ]
  },
  {
   "cell_type": "code",
   "execution_count": 7,
   "id": "60a118a2",
   "metadata": {},
   "outputs": [],
   "source": [
    "indicators_numbers = range(requests.get(url_grl+'1').json()[0]['per_page'])"
   ]
  },
  {
   "cell_type": "markdown",
   "id": "0c6356cd",
   "metadata": {},
   "source": [
    "Para empezar a almacenar la información. Se crean series con **pandas**. Para ello, primero se almacenarán los calores en una lista. Luego, se itera sobre las páginas totales (cada lista de la API almacenada) y sobre los indicadores (cada diccionario de la página)."
   ]
  },
  {
   "cell_type": "code",
   "execution_count": 8,
   "id": "fc8f57ec",
   "metadata": {},
   "outputs": [],
   "source": [
    "list_iso3 = []"
   ]
  },
  {
   "cell_type": "code",
   "execution_count": 9,
   "id": "5d748907",
   "metadata": {},
   "outputs": [],
   "source": [
    "for page in range(pages[-2]):\n",
    "    for i_num in indicators_numbers:\n",
    "        list_iso3.append(all_pages_data[page][1][i_num]['countryiso3code'])"
   ]
  },
  {
   "cell_type": "code",
   "execution_count": 10,
   "id": "cff1ee2a",
   "metadata": {},
   "outputs": [],
   "source": [
    "series_iso3 = pd.Series(list_iso3)"
   ]
  },
  {
   "cell_type": "code",
   "execution_count": 11,
   "id": "20414200",
   "metadata": {},
   "outputs": [],
   "source": [
    "list_countries = []"
   ]
  },
  {
   "cell_type": "code",
   "execution_count": 12,
   "id": "35ba8362",
   "metadata": {},
   "outputs": [],
   "source": [
    "for page in range(pages[-2]):\n",
    "    for i_num in indicators_numbers:\n",
    "        list_countries.append(all_pages_data[page][1][i_num]['country']['value'])"
   ]
  },
  {
   "cell_type": "code",
   "execution_count": 13,
   "id": "86960e47",
   "metadata": {},
   "outputs": [],
   "source": [
    "series_countries = pd.Series(list_countries, index = list_iso3)"
   ]
  },
  {
   "cell_type": "code",
   "execution_count": 14,
   "id": "4ce5b927",
   "metadata": {},
   "outputs": [],
   "source": [
    "list_years = []"
   ]
  },
  {
   "cell_type": "code",
   "execution_count": 15,
   "id": "7bc55e91",
   "metadata": {},
   "outputs": [],
   "source": [
    "for page in range(pages[-2]):\n",
    "    for i_num in indicators_numbers:\n",
    "        list_years.append(all_pages_data[page][1][i_num]['date'])"
   ]
  },
  {
   "cell_type": "code",
   "execution_count": 16,
   "id": "58368686",
   "metadata": {},
   "outputs": [],
   "source": [
    "series_year = pd.Series(list_years, index = list_iso3)"
   ]
  },
  {
   "cell_type": "code",
   "execution_count": 17,
   "id": "5202def3",
   "metadata": {},
   "outputs": [],
   "source": [
    "list_total_population = []"
   ]
  },
  {
   "cell_type": "code",
   "execution_count": 18,
   "id": "c7a00648",
   "metadata": {},
   "outputs": [],
   "source": [
    "for page in range(pages[-2]):\n",
    "    for i_num in indicators_numbers:\n",
    "        list_total_population.append(all_pages_data[page][1][i_num]['value'])"
   ]
  },
  {
   "cell_type": "code",
   "execution_count": 19,
   "id": "5c655a59",
   "metadata": {},
   "outputs": [],
   "source": [
    "series_total_population = pd.Series(list_total_population, index = list_iso3)"
   ]
  },
  {
   "cell_type": "markdown",
   "id": "66c56e2a",
   "metadata": {},
   "source": [
    "Para almacenar los datos que se han guardado hasta ahora, se crea un diccionario. Este contiene las columnas que tendrá el dataframe."
   ]
  },
  {
   "cell_type": "code",
   "execution_count": 20,
   "id": "f2511ef9",
   "metadata": {},
   "outputs": [],
   "source": [
    "dict_data = {\n",
    "    'Country' : pd.Series(series_countries),\n",
    "    'Year' : pd.Series(series_year),\n",
    "    'Population' : pd.Series(series_total_population)\n",
    "}"
   ]
  },
  {
   "cell_type": "code",
   "execution_count": 21,
   "id": "a1cba3e1",
   "metadata": {},
   "outputs": [],
   "source": [
    "population_country_year_df = pd.DataFrame(dict_data)"
   ]
  },
  {
   "cell_type": "code",
   "execution_count": 22,
   "id": "23ea3b88",
   "metadata": {
    "scrolled": true
   },
   "outputs": [
    {
     "data": {
      "text/html": [
       "<div>\n",
       "<style scoped>\n",
       "    .dataframe tbody tr th:only-of-type {\n",
       "        vertical-align: middle;\n",
       "    }\n",
       "\n",
       "    .dataframe tbody tr th {\n",
       "        vertical-align: top;\n",
       "    }\n",
       "\n",
       "    .dataframe thead th {\n",
       "        text-align: right;\n",
       "    }\n",
       "</style>\n",
       "<table border=\"1\" class=\"dataframe\">\n",
       "  <thead>\n",
       "    <tr style=\"text-align: right;\">\n",
       "      <th></th>\n",
       "      <th>Country</th>\n",
       "      <th>Year</th>\n",
       "      <th>Population</th>\n",
       "    </tr>\n",
       "  </thead>\n",
       "  <tbody>\n",
       "    <tr>\n",
       "      <th>AFE</th>\n",
       "      <td>Africa Eastern and Southern</td>\n",
       "      <td>2021</td>\n",
       "      <td>702976832.0</td>\n",
       "    </tr>\n",
       "    <tr>\n",
       "      <th>AFE</th>\n",
       "      <td>Africa Eastern and Southern</td>\n",
       "      <td>2020</td>\n",
       "      <td>685112705.0</td>\n",
       "    </tr>\n",
       "    <tr>\n",
       "      <th>AFE</th>\n",
       "      <td>Africa Eastern and Southern</td>\n",
       "      <td>2019</td>\n",
       "      <td>667242712.0</td>\n",
       "    </tr>\n",
       "    <tr>\n",
       "      <th>AFE</th>\n",
       "      <td>Africa Eastern and Southern</td>\n",
       "      <td>2018</td>\n",
       "      <td>649756874.0</td>\n",
       "    </tr>\n",
       "    <tr>\n",
       "      <th>AFE</th>\n",
       "      <td>Africa Eastern and Southern</td>\n",
       "      <td>2017</td>\n",
       "      <td>632746296.0</td>\n",
       "    </tr>\n",
       "    <tr>\n",
       "      <th>...</th>\n",
       "      <td>...</td>\n",
       "      <td>...</td>\n",
       "      <td>...</td>\n",
       "    </tr>\n",
       "    <tr>\n",
       "      <th>ZWE</th>\n",
       "      <td>Zimbabwe</td>\n",
       "      <td>2006</td>\n",
       "      <td>12330490.0</td>\n",
       "    </tr>\n",
       "    <tr>\n",
       "      <th>ZWE</th>\n",
       "      <td>Zimbabwe</td>\n",
       "      <td>2005</td>\n",
       "      <td>12224753.0</td>\n",
       "    </tr>\n",
       "    <tr>\n",
       "      <th>ZWE</th>\n",
       "      <td>Zimbabwe</td>\n",
       "      <td>2004</td>\n",
       "      <td>12160881.0</td>\n",
       "    </tr>\n",
       "    <tr>\n",
       "      <th>ZWE</th>\n",
       "      <td>Zimbabwe</td>\n",
       "      <td>2003</td>\n",
       "      <td>12075828.0</td>\n",
       "    </tr>\n",
       "    <tr>\n",
       "      <th>ZWE</th>\n",
       "      <td>Zimbabwe</td>\n",
       "      <td>2002</td>\n",
       "      <td>11984644.0</td>\n",
       "    </tr>\n",
       "  </tbody>\n",
       "</table>\n",
       "<p>16450 rows × 3 columns</p>\n",
       "</div>"
      ],
      "text/plain": [
       "                         Country  Year   Population\n",
       "AFE  Africa Eastern and Southern  2021  702976832.0\n",
       "AFE  Africa Eastern and Southern  2020  685112705.0\n",
       "AFE  Africa Eastern and Southern  2019  667242712.0\n",
       "AFE  Africa Eastern and Southern  2018  649756874.0\n",
       "AFE  Africa Eastern and Southern  2017  632746296.0\n",
       "..                           ...   ...          ...\n",
       "ZWE                     Zimbabwe  2006   12330490.0\n",
       "ZWE                     Zimbabwe  2005   12224753.0\n",
       "ZWE                     Zimbabwe  2004   12160881.0\n",
       "ZWE                     Zimbabwe  2003   12075828.0\n",
       "ZWE                     Zimbabwe  2002   11984644.0\n",
       "\n",
       "[16450 rows x 3 columns]"
      ]
     },
     "execution_count": 22,
     "metadata": {},
     "output_type": "execute_result"
    }
   ],
   "source": [
    "population_country_year_df"
   ]
  },
  {
   "cell_type": "code",
   "execution_count": 23,
   "id": "748a175b",
   "metadata": {
    "scrolled": false
   },
   "outputs": [
    {
     "data": {
      "text/html": [
       "<div>\n",
       "<style scoped>\n",
       "    .dataframe tbody tr th:only-of-type {\n",
       "        vertical-align: middle;\n",
       "    }\n",
       "\n",
       "    .dataframe tbody tr th {\n",
       "        vertical-align: top;\n",
       "    }\n",
       "\n",
       "    .dataframe thead th {\n",
       "        text-align: right;\n",
       "    }\n",
       "</style>\n",
       "<table border=\"1\" class=\"dataframe\">\n",
       "  <thead>\n",
       "    <tr style=\"text-align: right;\">\n",
       "      <th></th>\n",
       "      <th>Country</th>\n",
       "      <th>Year</th>\n",
       "      <th>Population</th>\n",
       "    </tr>\n",
       "  </thead>\n",
       "  <tbody>\n",
       "    <tr>\n",
       "      <th>CAN</th>\n",
       "      <td>Canada</td>\n",
       "      <td>2021</td>\n",
       "      <td>38246108.0</td>\n",
       "    </tr>\n",
       "    <tr>\n",
       "      <th>CAN</th>\n",
       "      <td>Canada</td>\n",
       "      <td>2020</td>\n",
       "      <td>38037204.0</td>\n",
       "    </tr>\n",
       "    <tr>\n",
       "      <th>CAN</th>\n",
       "      <td>Canada</td>\n",
       "      <td>2019</td>\n",
       "      <td>37601230.0</td>\n",
       "    </tr>\n",
       "    <tr>\n",
       "      <th>CAN</th>\n",
       "      <td>Canada</td>\n",
       "      <td>2018</td>\n",
       "      <td>37065084.0</td>\n",
       "    </tr>\n",
       "    <tr>\n",
       "      <th>CAN</th>\n",
       "      <td>Canada</td>\n",
       "      <td>2017</td>\n",
       "      <td>36545236.0</td>\n",
       "    </tr>\n",
       "    <tr>\n",
       "      <th>...</th>\n",
       "      <td>...</td>\n",
       "      <td>...</td>\n",
       "      <td>...</td>\n",
       "    </tr>\n",
       "    <tr>\n",
       "      <th>USA</th>\n",
       "      <td>United States</td>\n",
       "      <td>1964</td>\n",
       "      <td>191889000.0</td>\n",
       "    </tr>\n",
       "    <tr>\n",
       "      <th>USA</th>\n",
       "      <td>United States</td>\n",
       "      <td>1963</td>\n",
       "      <td>189242000.0</td>\n",
       "    </tr>\n",
       "    <tr>\n",
       "      <th>USA</th>\n",
       "      <td>United States</td>\n",
       "      <td>1962</td>\n",
       "      <td>186538000.0</td>\n",
       "    </tr>\n",
       "    <tr>\n",
       "      <th>USA</th>\n",
       "      <td>United States</td>\n",
       "      <td>1961</td>\n",
       "      <td>183691000.0</td>\n",
       "    </tr>\n",
       "    <tr>\n",
       "      <th>USA</th>\n",
       "      <td>United States</td>\n",
       "      <td>1960</td>\n",
       "      <td>180671000.0</td>\n",
       "    </tr>\n",
       "  </tbody>\n",
       "</table>\n",
       "<p>186 rows × 3 columns</p>\n",
       "</div>"
      ],
      "text/plain": [
       "           Country  Year   Population\n",
       "CAN         Canada  2021   38246108.0\n",
       "CAN         Canada  2020   38037204.0\n",
       "CAN         Canada  2019   37601230.0\n",
       "CAN         Canada  2018   37065084.0\n",
       "CAN         Canada  2017   36545236.0\n",
       "..             ...   ...          ...\n",
       "USA  United States  1964  191889000.0\n",
       "USA  United States  1963  189242000.0\n",
       "USA  United States  1962  186538000.0\n",
       "USA  United States  1961  183691000.0\n",
       "USA  United States  1960  180671000.0\n",
       "\n",
       "[186 rows x 3 columns]"
      ]
     },
     "execution_count": 23,
     "metadata": {},
     "output_type": "execute_result"
    }
   ],
   "source": [
    "population_country_year_df.loc[['CAN','MEX','USA']]"
   ]
  },
  {
   "cell_type": "code",
   "execution_count": 24,
   "id": "6f27b66c",
   "metadata": {
    "scrolled": true
   },
   "outputs": [],
   "source": [
    "prev_year_population = population_country_year_df.loc['AFE']['Population'].shift(1)"
   ]
  },
  {
   "cell_type": "code",
   "execution_count": 25,
   "id": "0689f9ca",
   "metadata": {},
   "outputs": [],
   "source": [
    "media_population_per_year = (population_country_year_df.loc['AFE']['Population']+prev_year_population)/2"
   ]
  },
  {
   "cell_type": "code",
   "execution_count": 26,
   "id": "661ff632",
   "metadata": {
    "scrolled": true
   },
   "outputs": [
    {
     "data": {
      "text/plain": [
       "AFE            NaN\n",
       "AFE    694044768.5\n",
       "AFE    676177708.5\n",
       "AFE    658499793.0\n",
       "AFE    641251585.0\n",
       "          ...     \n",
       "AFE    147674173.0\n",
       "AFE    143618270.5\n",
       "AFE    139733068.0\n",
       "AFE    136002413.5\n",
       "AFE    132430908.0\n",
       "Name: Population, Length: 62, dtype: float64"
      ]
     },
     "execution_count": 26,
     "metadata": {},
     "output_type": "execute_result"
    }
   ],
   "source": [
    "media_population_per_year"
   ]
  },
  {
   "cell_type": "code",
   "execution_count": 27,
   "id": "20730eee",
   "metadata": {},
   "outputs": [],
   "source": [
    "grow_rate_year_percentage = ((population_country_year_df.loc['AFE']['Population'] - prev_year_population) / media_population_per_year)*100"
   ]
  },
  {
   "cell_type": "code",
   "execution_count": 28,
   "id": "c90b21af",
   "metadata": {
    "scrolled": true
   },
   "outputs": [
    {
     "data": {
      "text/plain": [
       "AFE         NaN\n",
       "AFE   -2.573916\n",
       "AFE   -2.642795\n",
       "AFE   -2.655405\n",
       "AFE   -2.652715\n",
       "         ...   \n",
       "AFE   -2.801002\n",
       "AFE   -2.768066\n",
       "AFE   -2.715861\n",
       "AFE   -2.695800\n",
       "AFE   -2.625262\n",
       "Name: Population, Length: 62, dtype: float64"
      ]
     },
     "execution_count": 28,
     "metadata": {},
     "output_type": "execute_result"
    }
   ],
   "source": [
    "grow_rate_year_percentage"
   ]
  },
  {
   "cell_type": "code",
   "execution_count": 29,
   "id": "84c8aa2d",
   "metadata": {},
   "outputs": [],
   "source": [
    "new_frame = population_country_year_df.loc['AFE']"
   ]
  },
  {
   "cell_type": "code",
   "execution_count": 30,
   "id": "1c48512f",
   "metadata": {
    "scrolled": true
   },
   "outputs": [
    {
     "data": {
      "text/plain": [
       "AFE         NaN\n",
       "AFE   -2.573916\n",
       "AFE   -2.642795\n",
       "AFE   -2.655405\n",
       "AFE   -2.652715\n",
       "         ...   \n",
       "AFE   -2.801002\n",
       "AFE   -2.768066\n",
       "AFE   -2.715861\n",
       "AFE   -2.695800\n",
       "AFE   -2.625262\n",
       "Name: Population, Length: 62, dtype: float64"
      ]
     },
     "execution_count": 30,
     "metadata": {},
     "output_type": "execute_result"
    }
   ],
   "source": [
    "grow_rate_year_percentage"
   ]
  },
  {
   "cell_type": "code",
   "execution_count": 31,
   "id": "cbc583be",
   "metadata": {
    "scrolled": true
   },
   "outputs": [
    {
     "data": {
      "text/html": [
       "<div>\n",
       "<style scoped>\n",
       "    .dataframe tbody tr th:only-of-type {\n",
       "        vertical-align: middle;\n",
       "    }\n",
       "\n",
       "    .dataframe tbody tr th {\n",
       "        vertical-align: top;\n",
       "    }\n",
       "\n",
       "    .dataframe thead th {\n",
       "        text-align: right;\n",
       "    }\n",
       "</style>\n",
       "<table border=\"1\" class=\"dataframe\">\n",
       "  <thead>\n",
       "    <tr style=\"text-align: right;\">\n",
       "      <th></th>\n",
       "      <th>Population</th>\n",
       "    </tr>\n",
       "  </thead>\n",
       "  <tbody>\n",
       "    <tr>\n",
       "      <th>count</th>\n",
       "      <td>61.000000</td>\n",
       "    </tr>\n",
       "    <tr>\n",
       "      <th>mean</th>\n",
       "      <td>-2.757981</td>\n",
       "    </tr>\n",
       "    <tr>\n",
       "      <th>std</th>\n",
       "      <td>0.149472</td>\n",
       "    </tr>\n",
       "    <tr>\n",
       "      <th>min</th>\n",
       "      <td>-3.093978</td>\n",
       "    </tr>\n",
       "    <tr>\n",
       "      <th>25%</th>\n",
       "      <td>-2.869749</td>\n",
       "    </tr>\n",
       "    <tr>\n",
       "      <th>50%</th>\n",
       "      <td>-2.737016</td>\n",
       "    </tr>\n",
       "    <tr>\n",
       "      <th>75%</th>\n",
       "      <td>-2.631165</td>\n",
       "    </tr>\n",
       "    <tr>\n",
       "      <th>max</th>\n",
       "      <td>-2.483429</td>\n",
       "    </tr>\n",
       "  </tbody>\n",
       "</table>\n",
       "</div>"
      ],
      "text/plain": [
       "       Population\n",
       "count   61.000000\n",
       "mean    -2.757981\n",
       "std      0.149472\n",
       "min     -3.093978\n",
       "25%     -2.869749\n",
       "50%     -2.737016\n",
       "75%     -2.631165\n",
       "max     -2.483429"
      ]
     },
     "execution_count": 31,
     "metadata": {},
     "output_type": "execute_result"
    }
   ],
   "source": [
    "pd.DataFrame(grow_rate_year_percentage).describe()"
   ]
  }
 ],
 "metadata": {
  "kernelspec": {
   "display_name": "Python 3 (ipykernel)",
   "language": "python",
   "name": "python3"
  },
  "language_info": {
   "codemirror_mode": {
    "name": "ipython",
    "version": 3
   },
   "file_extension": ".py",
   "mimetype": "text/x-python",
   "name": "python",
   "nbconvert_exporter": "python",
   "pygments_lexer": "ipython3",
   "version": "3.9.12"
  }
 },
 "nbformat": 4,
 "nbformat_minor": 5
}
