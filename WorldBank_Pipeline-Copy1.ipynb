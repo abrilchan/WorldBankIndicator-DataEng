{
 "cells": [
  {
   "cell_type": "markdown",
   "id": "cd3b0f66",
   "metadata": {},
   "source": [
    "# Import libraries"
   ]
  },
  {
   "cell_type": "code",
   "execution_count": null,
   "id": "1b8a0e90",
   "metadata": {},
   "outputs": [],
   "source": [
    "import requests\n",
    "import json\n",
    "import pandas as pd"
   ]
  },
  {
   "cell_type": "markdown",
   "id": "ec76dc92",
   "metadata": {},
   "source": [
    "### URL Indicator Info JSON and pages \n",
    "(There are 330 pages in total)"
   ]
  },
  {
   "cell_type": "code",
   "execution_count": null,
   "id": "f0f985f8",
   "metadata": {},
   "outputs": [],
   "source": [
    "url_grl =\"http://api.worldbank.org/v2/country/all/indicator/SP.POP.TOTL?format=json&page=\""
   ]
  },
  {
   "cell_type": "markdown",
   "id": "7f9cca10",
   "metadata": {},
   "source": [
    "### Accessing all pages\n",
    "\n",
    "*pages* is a range from 1 to 330\n",
    "<br>\n",
    "*urls* is a list, it contains *url_grl* + *page* in *pages*\n",
    "<br>\n",
    "*all_pages_data* is a list, it contains a list with info from JSON API"
   ]
  },
  {
   "cell_type": "code",
   "execution_count": null,
   "id": "1d7f8e63",
   "metadata": {},
   "outputs": [],
   "source": [
    "pages = range(1,331)\n",
    "urls = []\n",
    "all_pages_data = []"
   ]
  },
  {
   "cell_type": "code",
   "execution_count": null,
   "id": "c514a87b",
   "metadata": {},
   "outputs": [],
   "source": [
    "for page in pages:\n",
    "    urls.append(url_grl+str(page))"
   ]
  },
  {
   "cell_type": "code",
   "execution_count": null,
   "id": "658a7428",
   "metadata": {},
   "outputs": [],
   "source": [
    "for url in urls:\n",
    "    all_pages_data.append(requests.get(url).json())"
   ]
  },
  {
   "cell_type": "markdown",
   "id": "41d33767",
   "metadata": {},
   "source": [
    "Cada dict con info contiene: \n",
    "<br>\n",
    "\n",
    "<p style=\"text-align: center;\">\n",
    "    indicador -> [dict con id y value] indicator id Total population\n",
    "    <br>\n",
    "    country -> [dict con id y value] Country id, country name\n",
    "    <br>\n",
    "    countryiso3code -> [str] code\n",
    "    <br>\n",
    "    date -> [str] year\n",
    "    <br>\n",
    "    value -> [int] total population\n",
    "    <br>\n",
    "</p>"
   ]
  },
  {
   "cell_type": "code",
   "execution_count": null,
   "id": "be2919f9",
   "metadata": {
    "scrolled": true
   },
   "outputs": [],
   "source": [
    "all_pages_data[0][1]"
   ]
  },
  {
   "cell_type": "code",
   "execution_count": null,
   "id": "10af20c9",
   "metadata": {},
   "outputs": [],
   "source": [
    "list_countries = []"
   ]
  },
  {
   "cell_type": "code",
   "execution_count": null,
   "id": "00930459",
   "metadata": {},
   "outputs": [],
   "source": [
    "for i in range(0,329):\n",
    "    for j in range (0,50):\n",
    "        list_countries.append(all_pages_data[i][1][j]['country']['value'])"
   ]
  },
  {
   "cell_type": "code",
   "execution_count": null,
   "id": "671b785c",
   "metadata": {},
   "outputs": [],
   "source": [
    "series_countries = pd.Series(list_countries)"
   ]
  },
  {
   "cell_type": "code",
   "execution_count": null,
   "id": "f23db042",
   "metadata": {},
   "outputs": [],
   "source": [
    "list_total_population = []"
   ]
  },
  {
   "cell_type": "code",
   "execution_count": null,
   "id": "9ad88f58",
   "metadata": {},
   "outputs": [],
   "source": [
    "for i in range(0,329):\n",
    "    for j in range (0,50):\n",
    "        list_total_population.append(all_pages_data[i][1][j]['value'])"
   ]
  },
  {
   "cell_type": "code",
   "execution_count": null,
   "id": "a9c6adb4",
   "metadata": {},
   "outputs": [],
   "source": [
    "series_total_population = pd.Series(list_total_population, index = list_countries)"
   ]
  },
  {
   "cell_type": "code",
   "execution_count": null,
   "id": "1c8f11f2",
   "metadata": {},
   "outputs": [],
   "source": [
    "series_total_population"
   ]
  },
  {
   "cell_type": "code",
   "execution_count": null,
   "id": "6c86ef53",
   "metadata": {},
   "outputs": [],
   "source": [
    "list_year = []"
   ]
  },
  {
   "cell_type": "code",
   "execution_count": null,
   "id": "78001ea2",
   "metadata": {},
   "outputs": [],
   "source": [
    "for i in range(0,329):\n",
    "    for j in range (0,50):\n",
    "        list_year.append(all_pages_data[i][1][j]['date'])"
   ]
  },
  {
   "cell_type": "code",
   "execution_count": null,
   "id": "af3e8cf0",
   "metadata": {},
   "outputs": [],
   "source": [
    "series_year = pd.Series(list_year, index = list_countries)"
   ]
  },
  {
   "cell_type": "code",
   "execution_count": null,
   "id": "c6f9d599",
   "metadata": {},
   "outputs": [],
   "source": [
    "series_year"
   ]
  },
  {
   "cell_type": "code",
   "execution_count": null,
   "id": "6f45ac49",
   "metadata": {},
   "outputs": [],
   "source": [
    "#len(series_countries)#-16450\n",
    "#len(series_total_population)#-16450\n",
    "#len(series_year)#-16450"
   ]
  },
  {
   "cell_type": "code",
   "execution_count": null,
   "id": "d5f2d735",
   "metadata": {},
   "outputs": [],
   "source": [
    "df = pd.DataFrame([series_total_population, series_year])"
   ]
  },
  {
   "cell_type": "code",
   "execution_count": null,
   "id": "b200187f",
   "metadata": {},
   "outputs": [],
   "source": [
    "df"
   ]
  },
  {
   "cell_type": "markdown",
   "id": "7738240b",
   "metadata": {},
   "source": [
    "Para cada una de las paginas data_per_page (estas son listas, que contienen 1 diccionario con la info de cada pag y 1 lista con de los indicadores)\n",
    "<br>\n",
    "Hay que acceder a data_per_page \\[ 1: \\], esa es la info que estará en "
   ]
  },
  {
   "cell_type": "code",
   "execution_count": null,
   "id": "d66f87ee",
   "metadata": {},
   "outputs": [],
   "source": [
    "list_dict_per_year = []"
   ]
  },
  {
   "cell_type": "markdown",
   "id": "a05ca5dc",
   "metadata": {},
   "source": [
    "Hacer una lista con todos los años, sin repetir.\n",
    "Esa lista va a servir para la condición de años que va a permitir mapear\n",
    "Si el año coincide se agrega un dic con pais:poblacion de ese año\n",
    "se va a hacer para todos los años\n",
    "La estructura sería: diccionario de años:{pais:poblacion}\n",
    "Ese será el data frame"
   ]
  },
  {
   "cell_type": "code",
   "execution_count": null,
   "id": "9c571210",
   "metadata": {},
   "outputs": [],
   "source": [
    "for i in range(0,329):\n",
    "    for j in range (0,50):\n",
    "        if all_pages_data[i][1][j]['date']==2021:\n",
    "            list_total_population.append({\n",
    "                all_pages_data[i][1][j]['country']['value'] : all_pages_data[i][1][j]['value']\n",
    "            })"
   ]
  },
  {
   "cell_type": "code",
   "execution_count": null,
   "id": "3b7c52a8",
   "metadata": {},
   "outputs": [],
   "source": [
    "my_values = []\n",
    "for country in countries:\n",
    "    data = requests.get(url %country).json()\n",
    "\n",
    "    try:\n",
    "        for d in data[1]:\n",
    "            my_values.append({\n",
    "                'country':d['country']['value'],\n",
    "                'date':d['date'],\n",
    "                'value':d['value']\n",
    "            })\n",
    "    except Exception as err:\n",
    "        print(f'[ERROR] country ==> {country} error ==> {err}')\n",
    "\n",
    "pd.DataFrame(my_values).sort_values(['country', 'date'], ascending=True)\n",
    "###############\n"
   ]
  },
  {
   "cell_type": "code",
   "execution_count": null,
   "id": "2a0548f2",
   "metadata": {},
   "outputs": [],
   "source": [
    "import wbgapi as wb\n",
    "wb.data.DataFrame(['SP.POP.TOTL'])"
   ]
  },
  {
   "cell_type": "code",
   "execution_count": null,
   "id": "e9e28f2b",
   "metadata": {},
   "outputs": [],
   "source": []
  }
 ],
 "metadata": {
  "kernelspec": {
   "display_name": "Python 3 (ipykernel)",
   "language": "python",
   "name": "python3"
  },
  "language_info": {
   "codemirror_mode": {
    "name": "ipython",
    "version": 3
   },
   "file_extension": ".py",
   "mimetype": "text/x-python",
   "name": "python",
   "nbconvert_exporter": "python",
   "pygments_lexer": "ipython3",
   "version": "3.9.12"
  }
 },
 "nbformat": 4,
 "nbformat_minor": 5
}
